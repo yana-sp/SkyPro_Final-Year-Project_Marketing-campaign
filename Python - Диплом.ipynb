{
 "cells": [
  {
   "cell_type": "markdown",
   "id": "177e0782",
   "metadata": {},
   "source": [
    "# Диплом (часть 2)"
   ]
  },
  {
   "cell_type": "markdown",
   "id": "32132266",
   "metadata": {},
   "source": [
    "## Условие проекта\n",
    "\n",
    "В компании SkyCrossroads есть рекламная акция, в соответствии с которой клиенту дается возможность получить дополнительные баллы лояльности за покупку, совершенную в течение ограниченного периода времени после запуска акции. \n",
    "\n",
    "Классическая акция подразумевает получение дополнительные 1000 баллов лояльности за покупку от 100 рублей. Было решено запустить АБ Тест, в котором в тестовой группе предлагается в два раза больше баллов лояльности за покупку от 100 рублей. \n",
    "\n",
    "Эксперимент был проведен в нескольких торговых точках, которые в датасете представлены столбцом id_point.  Также в датасете есть информация о том, как долго клиент уже зарегистрирован у нас в программе лояльности.\n",
    "\n",
    "Отдел маркетинга попросил вас рассчитать результаты этого эксперимента (в целом и в отдельности по каждой точке) и вынести решение об эффективности воздействия Б по сравнению с воздействием А. Также проведите сегментацию пользователей с точки зрения из длительности регистрации."
   ]
  },
  {
   "cell_type": "code",
   "execution_count": 2,
   "id": "7e268994",
   "metadata": {},
   "outputs": [],
   "source": [
    "import pandas as pd\n",
    "import seaborn as sns\n",
    "import matplotlib.pyplot as plt\n",
    "import numpy as np\n",
    "from scipy.stats import ttest_1samp\n",
    "from scipy.stats import ttest_ind\n",
    "from statsmodels.stats.weightstats import ztest\n",
    "from scipy.stats import pearsonr, spearmanr\n",
    "import scipy.stats as stats\n",
    "import random as rd\n",
    "from scipy.stats import t"
   ]
  },
  {
   "cell_type": "code",
   "execution_count": 4,
   "id": "6cf05e10",
   "metadata": {},
   "outputs": [],
   "source": [
    "df = pd.read_csv('Dataset_AB_TEST.csv', sep = ';')"
   ]
  },
  {
   "cell_type": "markdown",
   "id": "07945d92",
   "metadata": {},
   "source": [
    "## Общий анализ АБ Теста"
   ]
  },
  {
   "cell_type": "code",
   "execution_count": 5,
   "id": "45200466",
   "metadata": {},
   "outputs": [
    {
     "data": {
      "text/html": [
       "<div>\n",
       "<style scoped>\n",
       "    .dataframe tbody tr th:only-of-type {\n",
       "        vertical-align: middle;\n",
       "    }\n",
       "\n",
       "    .dataframe tbody tr th {\n",
       "        vertical-align: top;\n",
       "    }\n",
       "\n",
       "    .dataframe thead th {\n",
       "        text-align: right;\n",
       "    }\n",
       "</style>\n",
       "<table border=\"1\" class=\"dataframe\">\n",
       "  <thead>\n",
       "    <tr style=\"text-align: right;\">\n",
       "      <th></th>\n",
       "      <th>id_client</th>\n",
       "      <th>id_group</th>\n",
       "      <th>sum_pay</th>\n",
       "      <th>id_point</th>\n",
       "      <th>months_reg</th>\n",
       "    </tr>\n",
       "  </thead>\n",
       "  <tbody>\n",
       "    <tr>\n",
       "      <th>0</th>\n",
       "      <td>1420218</td>\n",
       "      <td>test</td>\n",
       "      <td>3288.0</td>\n",
       "      <td>1199.0</td>\n",
       "      <td>8</td>\n",
       "    </tr>\n",
       "    <tr>\n",
       "      <th>1</th>\n",
       "      <td>1390221</td>\n",
       "      <td>control</td>\n",
       "      <td>1267.0</td>\n",
       "      <td>1182.0</td>\n",
       "      <td>11</td>\n",
       "    </tr>\n",
       "    <tr>\n",
       "      <th>2</th>\n",
       "      <td>1363404</td>\n",
       "      <td>control</td>\n",
       "      <td>4259.0</td>\n",
       "      <td>1178.0</td>\n",
       "      <td>2</td>\n",
       "    </tr>\n",
       "    <tr>\n",
       "      <th>3</th>\n",
       "      <td>1370042</td>\n",
       "      <td>test</td>\n",
       "      <td>7211.0</td>\n",
       "      <td>1179.0</td>\n",
       "      <td>3</td>\n",
       "    </tr>\n",
       "    <tr>\n",
       "      <th>4</th>\n",
       "      <td>1360376</td>\n",
       "      <td>control</td>\n",
       "      <td>760.0</td>\n",
       "      <td>1178.0</td>\n",
       "      <td>14</td>\n",
       "    </tr>\n",
       "  </tbody>\n",
       "</table>\n",
       "</div>"
      ],
      "text/plain": [
       "   id_client id_group  sum_pay  id_point  months_reg\n",
       "0    1420218     test   3288.0    1199.0           8\n",
       "1    1390221  control   1267.0    1182.0          11\n",
       "2    1363404  control   4259.0    1178.0           2\n",
       "3    1370042     test   7211.0    1179.0           3\n",
       "4    1360376  control    760.0    1178.0          14"
      ]
     },
     "execution_count": 5,
     "metadata": {},
     "output_type": "execute_result"
    }
   ],
   "source": [
    "df.head()"
   ]
  },
  {
   "cell_type": "code",
   "execution_count": 6,
   "id": "310315a6",
   "metadata": {},
   "outputs": [
    {
     "name": "stdout",
     "output_type": "stream",
     "text": [
      "<class 'pandas.core.frame.DataFrame'>\n",
      "RangeIndex: 10976 entries, 0 to 10975\n",
      "Data columns (total 5 columns):\n",
      " #   Column      Non-Null Count  Dtype  \n",
      "---  ------      --------------  -----  \n",
      " 0   id_client   10976 non-null  int64  \n",
      " 1   id_group    10902 non-null  object \n",
      " 2   sum_pay     10849 non-null  float64\n",
      " 3   id_point    10895 non-null  float64\n",
      " 4   months_reg  10976 non-null  int64  \n",
      "dtypes: float64(2), int64(2), object(1)\n",
      "memory usage: 428.9+ KB\n"
     ]
    }
   ],
   "source": [
    "df.info()"
   ]
  },
  {
   "cell_type": "code",
   "execution_count": 7,
   "id": "1203b9fc",
   "metadata": {},
   "outputs": [],
   "source": [
    "# Проведем очистку данных от нуллов и выбросов\n",
    "\n",
    "df = df.dropna()"
   ]
  },
  {
   "cell_type": "code",
   "execution_count": 8,
   "id": "20948234",
   "metadata": {},
   "outputs": [
    {
     "data": {
      "text/html": [
       "<div>\n",
       "<style scoped>\n",
       "    .dataframe tbody tr th:only-of-type {\n",
       "        vertical-align: middle;\n",
       "    }\n",
       "\n",
       "    .dataframe tbody tr th {\n",
       "        vertical-align: top;\n",
       "    }\n",
       "\n",
       "    .dataframe thead th {\n",
       "        text-align: right;\n",
       "    }\n",
       "</style>\n",
       "<table border=\"1\" class=\"dataframe\">\n",
       "  <thead>\n",
       "    <tr style=\"text-align: right;\">\n",
       "      <th></th>\n",
       "      <th>id_client</th>\n",
       "      <th>id_group</th>\n",
       "      <th>sum_pay</th>\n",
       "      <th>id_point</th>\n",
       "      <th>months_reg</th>\n",
       "    </tr>\n",
       "  </thead>\n",
       "  <tbody>\n",
       "    <tr>\n",
       "      <th>0</th>\n",
       "      <td>1420218</td>\n",
       "      <td>test</td>\n",
       "      <td>3288.0</td>\n",
       "      <td>1199.0</td>\n",
       "      <td>8</td>\n",
       "    </tr>\n",
       "    <tr>\n",
       "      <th>1</th>\n",
       "      <td>1390221</td>\n",
       "      <td>control</td>\n",
       "      <td>1267.0</td>\n",
       "      <td>1182.0</td>\n",
       "      <td>11</td>\n",
       "    </tr>\n",
       "    <tr>\n",
       "      <th>2</th>\n",
       "      <td>1363404</td>\n",
       "      <td>control</td>\n",
       "      <td>4259.0</td>\n",
       "      <td>1178.0</td>\n",
       "      <td>2</td>\n",
       "    </tr>\n",
       "    <tr>\n",
       "      <th>3</th>\n",
       "      <td>1370042</td>\n",
       "      <td>test</td>\n",
       "      <td>7211.0</td>\n",
       "      <td>1179.0</td>\n",
       "      <td>3</td>\n",
       "    </tr>\n",
       "    <tr>\n",
       "      <th>4</th>\n",
       "      <td>1360376</td>\n",
       "      <td>control</td>\n",
       "      <td>760.0</td>\n",
       "      <td>1178.0</td>\n",
       "      <td>14</td>\n",
       "    </tr>\n",
       "    <tr>\n",
       "      <th>...</th>\n",
       "      <td>...</td>\n",
       "      <td>...</td>\n",
       "      <td>...</td>\n",
       "      <td>...</td>\n",
       "      <td>...</td>\n",
       "    </tr>\n",
       "    <tr>\n",
       "      <th>10971</th>\n",
       "      <td>1359021</td>\n",
       "      <td>control</td>\n",
       "      <td>799.0</td>\n",
       "      <td>1178.0</td>\n",
       "      <td>3</td>\n",
       "    </tr>\n",
       "    <tr>\n",
       "      <th>10972</th>\n",
       "      <td>1363347</td>\n",
       "      <td>control</td>\n",
       "      <td>4825.0</td>\n",
       "      <td>1178.0</td>\n",
       "      <td>6</td>\n",
       "    </tr>\n",
       "    <tr>\n",
       "      <th>10973</th>\n",
       "      <td>1373031</td>\n",
       "      <td>test</td>\n",
       "      <td>673.0</td>\n",
       "      <td>1179.0</td>\n",
       "      <td>1</td>\n",
       "    </tr>\n",
       "    <tr>\n",
       "      <th>10974</th>\n",
       "      <td>1370292</td>\n",
       "      <td>test</td>\n",
       "      <td>1120.0</td>\n",
       "      <td>1179.0</td>\n",
       "      <td>1</td>\n",
       "    </tr>\n",
       "    <tr>\n",
       "      <th>10975</th>\n",
       "      <td>1370038</td>\n",
       "      <td>test</td>\n",
       "      <td>5348.0</td>\n",
       "      <td>1179.0</td>\n",
       "      <td>8</td>\n",
       "    </tr>\n",
       "  </tbody>\n",
       "</table>\n",
       "<p>10840 rows × 5 columns</p>\n",
       "</div>"
      ],
      "text/plain": [
       "       id_client id_group  sum_pay  id_point  months_reg\n",
       "0        1420218     test   3288.0    1199.0           8\n",
       "1        1390221  control   1267.0    1182.0          11\n",
       "2        1363404  control   4259.0    1178.0           2\n",
       "3        1370042     test   7211.0    1179.0           3\n",
       "4        1360376  control    760.0    1178.0          14\n",
       "...          ...      ...      ...       ...         ...\n",
       "10971    1359021  control    799.0    1178.0           3\n",
       "10972    1363347  control   4825.0    1178.0           6\n",
       "10973    1373031     test    673.0    1179.0           1\n",
       "10974    1370292     test   1120.0    1179.0           1\n",
       "10975    1370038     test   5348.0    1179.0           8\n",
       "\n",
       "[10840 rows x 5 columns]"
      ]
     },
     "execution_count": 8,
     "metadata": {},
     "output_type": "execute_result"
    }
   ],
   "source": [
    "df"
   ]
  },
  {
   "cell_type": "code",
   "execution_count": 9,
   "id": "20794007",
   "metadata": {},
   "outputs": [
    {
     "name": "stdout",
     "output_type": "stream",
     "text": [
      "<class 'pandas.core.frame.DataFrame'>\n",
      "Int64Index: 10840 entries, 0 to 10975\n",
      "Data columns (total 5 columns):\n",
      " #   Column      Non-Null Count  Dtype  \n",
      "---  ------      --------------  -----  \n",
      " 0   id_client   10840 non-null  int64  \n",
      " 1   id_group    10840 non-null  object \n",
      " 2   sum_pay     10840 non-null  float64\n",
      " 3   id_point    10840 non-null  float64\n",
      " 4   months_reg  10840 non-null  int64  \n",
      "dtypes: float64(2), int64(2), object(1)\n",
      "memory usage: 508.1+ KB\n"
     ]
    }
   ],
   "source": [
    "df.info()"
   ]
  },
  {
   "cell_type": "code",
   "execution_count": 10,
   "id": "c1d9855a",
   "metadata": {},
   "outputs": [],
   "source": [
    "# Создадим функцию statistical_analysis, которая считает среднее значение, медиану, квартили, децили\n",
    "# и строит гистограмму\n",
    "\n",
    "\n",
    "def statistical_analysis(r, q= [0.1,0.25,0.3,0.4,0.5,0.6,0.75,0.9]):\n",
    "    if type(r) != tuple and type(r) != list:\n",
    "        return print('Нужен список или кортеж!')\n",
    "    \n",
    "    if len(r) <= 4:\n",
    "        return print('Требуется более длинный ряд')\n",
    "    \n",
    "    r = pd.Series(r)\n",
    "    mean = r.mean()\n",
    "    var = r.var()\n",
    "    std = r.std()\n",
    "    \n",
    "    print('Среднее: ',mean)  \n",
    "    print('Дисперсия: ', var)\n",
    "    print('Стандартное отклонение: ', std)\n",
    "    \n",
    "    qs = np.quantile(r,q)\n",
    "    for i in range(len(q)):\n",
    "        if q[i] == 0.1:\n",
    "            print('1 дециль: ', qs[i])\n",
    "        elif q[i] == 0.25:\n",
    "            print('1 квартиль: ', qs[i])\n",
    "        elif q[i] == 0.3:\n",
    "            print('3 дециль: ', qs[i])\n",
    "        elif q[i] == 0.4:\n",
    "            print('4 дециль: ', qs[i])\n",
    "        elif q[i] == 0.5:\n",
    "            print('Медиана: ', qs[i])\n",
    "        elif q[i] == 0.6:\n",
    "            print('6 дециль: ', qs[i])\n",
    "        elif q[i] == 0.75:\n",
    "            print('3 квартиль: ', qs[i])\n",
    "        elif q[i] == 0.9:\n",
    "            print('9 дециль: ', qs[i])\n",
    "            \n",
    "        sns.histplot(r)\n",
    "            \n",
    "    return mean, var, std, qs"
   ]
  },
  {
   "cell_type": "code",
   "execution_count": 11,
   "id": "2795a58f",
   "metadata": {},
   "outputs": [
    {
     "name": "stdout",
     "output_type": "stream",
     "text": [
      "Среднее:  3568.7580258302582\n",
      "Дисперсия:  8568932.941996625\n",
      "Стандартное отклонение:  2927.27397795229\n",
      "1 дециль:  410.0\n",
      "1 квартиль:  1250.75\n",
      "3 дециль:  1590.0\n",
      "4 дециль:  2329.6000000000004\n",
      "Медиана:  3173.5\n",
      "6 дециль:  3934.0\n",
      "3 квартиль:  5356.5\n",
      "9 дециль:  7088.200000000001\n"
     ]
    },
    {
     "data": {
      "text/plain": [
       "(3568.7580258302582,\n",
       " 8568932.941996625,\n",
       " 2927.27397795229,\n",
       " array([ 410.  , 1250.75, 1590.  , 2329.6 , 3173.5 , 3934.  , 5356.5 ,\n",
       "        7088.2 ]))"
      ]
     },
     "execution_count": 11,
     "metadata": {},
     "output_type": "execute_result"
    },
    {
     "data": {
      "image/png": "[encoded data removed]",
      "text/plain": [
       "<Figure size 432x288 with 1 Axes>"
      ]
     },
     "metadata": {
      "needs_background": "light"
     },
     "output_type": "display_data"
    }
   ],
   "source": [
    "# Приеним функцию statistical_analysis к столбцу 'sum_pay', чтобы определить, есть ли выбросы\n",
    "\n",
    "statistical_analysis(list(df['sum_pay']))"
   ]
  },
  {
   "cell_type": "code",
   "execution_count": 12,
   "id": "d99b7897",
   "metadata": {},
   "outputs": [],
   "source": [
    "# Избавимся от выбросов. В нашем случае выбросами являются оплаты с суммой более 12 000 руб.\n",
    "\n",
    "df1 = df.loc[df['sum_pay']<12000]"
   ]
  },
  {
   "cell_type": "code",
   "execution_count": 13,
   "id": "f2119678",
   "metadata": {},
   "outputs": [
    {
     "name": "stdout",
     "output_type": "stream",
     "text": [
      "Среднее:  3431.3779388532666\n",
      "Дисперсия:  6023895.900736336\n",
      "Стандартное отклонение:  2454.3626261692334\n",
      "1 дециль:  409.0\n",
      "1 квартиль:  1237.0\n",
      "3 дециль:  1576.0\n",
      "4 дециль:  2307.0\n",
      "Медиана:  3155.0\n",
      "6 дециль:  3899.0\n",
      "3 квартиль:  5274.0\n",
      "9 дециль:  7011.0\n"
     ]
    },
    {
     "data": {
      "text/plain": [
       "(3431.3779388532666,\n",
       " 6023895.900736336,\n",
       " 2454.3626261692334,\n",
       " array([ 409., 1237., 1576., 2307., 3155., 3899., 5274., 7011.]))"
      ]
     },
     "execution_count": 13,
     "metadata": {},
     "output_type": "execute_result"
    },
    {
     "data": {
      "image/png": "[encoded data removed]",
      "text/plain": [
       "<Figure size 432x288 with 1 Axes>"
      ]
     },
     "metadata": {
      "needs_background": "light"
     },
     "output_type": "display_data"
    }
   ],
   "source": [
    "# Приеним функцию statistical_analysis к отредактированным данным\n",
    "\n",
    "statistical_analysis(list(df1['sum_pay']))"
   ]
  },
  {
   "cell_type": "code",
   "execution_count": 14,
   "id": "7e2b1e34",
   "metadata": {},
   "outputs": [
    {
     "data": {
      "text/html": [
       "<div>\n",
       "<style scoped>\n",
       "    .dataframe tbody tr th:only-of-type {\n",
       "        vertical-align: middle;\n",
       "    }\n",
       "\n",
       "    .dataframe tbody tr th {\n",
       "        vertical-align: top;\n",
       "    }\n",
       "\n",
       "    .dataframe thead th {\n",
       "        text-align: right;\n",
       "    }\n",
       "</style>\n",
       "<table border=\"1\" class=\"dataframe\">\n",
       "  <thead>\n",
       "    <tr style=\"text-align: right;\">\n",
       "      <th></th>\n",
       "      <th>id_client</th>\n",
       "      <th>id_group</th>\n",
       "      <th>sum_pay</th>\n",
       "      <th>id_point</th>\n",
       "      <th>months_reg</th>\n",
       "    </tr>\n",
       "  </thead>\n",
       "  <tbody>\n",
       "    <tr>\n",
       "      <th>0</th>\n",
       "      <td>1420218</td>\n",
       "      <td>test</td>\n",
       "      <td>3288.0</td>\n",
       "      <td>1199.0</td>\n",
       "      <td>8</td>\n",
       "    </tr>\n",
       "    <tr>\n",
       "      <th>1</th>\n",
       "      <td>1390221</td>\n",
       "      <td>control</td>\n",
       "      <td>1267.0</td>\n",
       "      <td>1182.0</td>\n",
       "      <td>11</td>\n",
       "    </tr>\n",
       "    <tr>\n",
       "      <th>2</th>\n",
       "      <td>1363404</td>\n",
       "      <td>control</td>\n",
       "      <td>4259.0</td>\n",
       "      <td>1178.0</td>\n",
       "      <td>2</td>\n",
       "    </tr>\n",
       "    <tr>\n",
       "      <th>3</th>\n",
       "      <td>1370042</td>\n",
       "      <td>test</td>\n",
       "      <td>7211.0</td>\n",
       "      <td>1179.0</td>\n",
       "      <td>3</td>\n",
       "    </tr>\n",
       "    <tr>\n",
       "      <th>4</th>\n",
       "      <td>1360376</td>\n",
       "      <td>control</td>\n",
       "      <td>760.0</td>\n",
       "      <td>1178.0</td>\n",
       "      <td>14</td>\n",
       "    </tr>\n",
       "  </tbody>\n",
       "</table>\n",
       "</div>"
      ],
      "text/plain": [
       "   id_client id_group  sum_pay  id_point  months_reg\n",
       "0    1420218     test   3288.0    1199.0           8\n",
       "1    1390221  control   1267.0    1182.0          11\n",
       "2    1363404  control   4259.0    1178.0           2\n",
       "3    1370042     test   7211.0    1179.0           3\n",
       "4    1360376  control    760.0    1178.0          14"
      ]
     },
     "execution_count": 14,
     "metadata": {},
     "output_type": "execute_result"
    }
   ],
   "source": [
    "df1.head()"
   ]
  },
  {
   "cell_type": "code",
   "execution_count": 15,
   "id": "46ff7a37",
   "metadata": {},
   "outputs": [],
   "source": [
    "# Разобьем данные по сумме оплат отдельно для тестовой и контрольной группы \n",
    "\n",
    "df_control = df1.loc[df1['id_group'] == 'control']\n",
    "control = df_control['sum_pay']\n",
    "\n",
    "df_test = df1.loc[df1['id_group'] == 'test']\n",
    "test = df_test['sum_pay']"
   ]
  },
  {
   "cell_type": "code",
   "execution_count": 16,
   "id": "ae0edadc",
   "metadata": {},
   "outputs": [],
   "source": [
    "# Создадим функцию для визуализации с помощью гистограммы результатов в А и Б группе \n",
    "\n",
    "def show_hist(k1, k2):\n",
    "    \n",
    "    plt.figure(figsize = (10,5))\n",
    "    plt.title('Гистограмма распределения в группе А(оранжевый) и группе Б (голубой)') \n",
    "    \n",
    "    plt.grid()\n",
    "    \n",
    "    sns.histplot(k1, color = 'tab:orange' )\n",
    "    sns.histplot(k2, color = 'tab:cyan')\n",
    "    \n",
    "    #отрисовываем среднее k1 пунктирной черной линией толщиной 2\n",
    "    plt.axvline(k1.mean(),     \n",
    "            color='k', \n",
    "            linestyle='--', \n",
    "            linewidth=2, \n",
    "            label = f'среднее в группе А, {round(k1.mean(),2)}')\n",
    "\n",
    "    #отрисовываем среднее k2 красной линией толщиной 2\n",
    "    plt.axvline(k2.mean(), \n",
    "            color='r', \n",
    "            linestyle='-', \n",
    "            linewidth=2, \n",
    "            label = f'среднее в группе В, {round(k2.mean(),2)}')\n",
    "    \n",
    "    plt.legend()\n",
    "    \n",
    "    plt.show() \n",
    "    \n",
    "    delta = round(((k2.mean()- k1.mean())/k1.mean())*100, 2)\n",
    "    print(f'Прирост среднего чека составил {delta} %')\n"
   ]
  },
  {
   "cell_type": "code",
   "execution_count": 17,
   "id": "ccba439a",
   "metadata": {},
   "outputs": [
    {
     "data": {
      "image/png": "[encoded data removed]",
      "text/plain": [
       "<Figure size 720x360 with 1 Axes>"
      ]
     },
     "metadata": {
      "needs_background": "light"
     },
     "output_type": "display_data"
    },
    {
     "name": "stdout",
     "output_type": "stream",
     "text": [
      "Прирост среднего чека составил 5.26 %\n"
     ]
    }
   ],
   "source": [
    "show_hist(control, test)"
   ]
  },
  {
   "cell_type": "code",
   "execution_count": 18,
   "id": "64cd332c",
   "metadata": {},
   "outputs": [
    {
     "name": "stderr",
     "output_type": "stream",
     "text": [
      "/opt/anaconda3/lib/python3.9/site-packages/scipy/stats/morestats.py:1760: UserWarning: p-value may not be accurate for N > 5000.\n",
      "  warnings.warn(\"p-value may not be accurate for N > 5000.\")\n"
     ]
    },
    {
     "data": {
      "text/plain": [
       "(0.953092634677887, 9.575525306395145e-38)"
      ]
     },
     "execution_count": 18,
     "metadata": {},
     "output_type": "execute_result"
    }
   ],
   "source": [
    "# Используем тест Шапиро: его -p_value говорит нам о том, нормально ли наше распределение\n",
    "\n",
    "w, pvalue = stats.shapiro(control)\n",
    "w, pvalue"
   ]
  },
  {
   "cell_type": "code",
   "execution_count": 19,
   "id": "d8cd457d",
   "metadata": {},
   "outputs": [
    {
     "data": {
      "text/plain": [
       "(0.9342670440673828, 2.382207389352189e-44)"
      ]
     },
     "execution_count": 19,
     "metadata": {},
     "output_type": "execute_result"
    }
   ],
   "source": [
    "w, pvalue = stats.shapiro(test)\n",
    "w, pvalue"
   ]
  },
  {
   "cell_type": "markdown",
   "id": "ad372fa1",
   "metadata": {},
   "source": [
    "По результатам теста Шапиро можно сделать вывод о том, что оба распределения (в контрольной группе и тестовой группе) являются нормальными. p-value у обоих распределений имеет достаточно большое значение для такого заключения (p-value > alpha). Соответственно средние значения в этих распределениях тоже будут нормальными и для анализа можно использовать параметрические методы проверки нулевой гипотезы о равенстве средних."
   ]
  },
  {
   "cell_type": "code",
   "execution_count": 20,
   "id": "524df91d",
   "metadata": {},
   "outputs": [],
   "source": [
    "# Создадим функцию mann_whitney_func, которая берет на вход два ряда и уровень значимости \n",
    "# Данная функция выполняет следующие действия:\n",
    "    # Возвращает (в return) — значение статистики Манна — Уитни и p_value нулевой гипотезы.\n",
    "    # Принт результата в зависимости от соотношения p_value и alpha («Распределения (не) равны»).\n",
    "\n",
    "def mann_whitney_func(r1, r2, alpha = 0.05):\n",
    "    \n",
    "    s, p = stats.mannwhitneyu(r1, r2, alternative = 'two-sided')\n",
    "    \n",
    "    print('Значение статистики Манна — Уитни = ', s)\n",
    "    print('p_value = ', p)\n",
    "    print()\n",
    "    \n",
    "    if p < alpha:\n",
    "        print('Распределения не равны')\n",
    "    else:\n",
    "        print('Распределения равны')\n",
    "        \n",
    "    return s, p"
   ]
  },
  {
   "cell_type": "code",
   "execution_count": 21,
   "id": "ae288a62",
   "metadata": {},
   "outputs": [],
   "source": [
    "# Построим функцию, которая на вход берет два ряда и уровень значимости альфа.\n",
    "# Функция возвращает значение двухвыборочного t-критерия и соответствующее ему p_value. \n",
    "# Также функция принтит, принимается ли нулевая гипотеза о равенстве средних или нет на основании полученного p_value.\n",
    "\n",
    "\n",
    "def test_calc(l1, l2, alpha = 0.05):\n",
    "    s1, p1 = ttest_ind(l1,l2)\n",
    "    print('Значение двухвыборочного t-критерия: ', s1)\n",
    "    print('Значение p-value: ', p1)\n",
    "    \n",
    "    if p1 < alpha:\n",
    "        print('Гипотеза о равенстве средних не принимается')\n",
    "    else:\n",
    "        print('Гипотеза о равенстве средних принимается')\n",
    "    return s1, p1"
   ]
  },
  {
   "cell_type": "code",
   "execution_count": 22,
   "id": "079bb362",
   "metadata": {},
   "outputs": [
    {
     "name": "stdout",
     "output_type": "stream",
     "text": [
      "Значение двухвыборочного t-критерия:  -3.7141912292177888\n",
      "Значение p-value:  0.0002048855494553075\n",
      "Гипотеза о равенстве средних не принимается\n"
     ]
    },
    {
     "data": {
      "text/plain": [
       "(-3.7141912292177888, 0.0002048855494553075)"
      ]
     },
     "execution_count": 22,
     "metadata": {},
     "output_type": "execute_result"
    }
   ],
   "source": [
    "# Посмотрим на результаты параметрического  теста, используйте функцию test_calc\n",
    "\n",
    "test_calc(control, test)"
   ]
  },
  {
   "cell_type": "code",
   "execution_count": 23,
   "id": "aabc2a2f",
   "metadata": {},
   "outputs": [
    {
     "name": "stdout",
     "output_type": "stream",
     "text": [
      "Значение статистики Манна — Уитни =  14141330.5\n",
      "p_value =  0.05842125879702285\n",
      "\n",
      "Распределения равны\n"
     ]
    },
    {
     "data": {
      "text/plain": [
       "(14141330.5, 0.05842125879702285)"
      ]
     },
     "execution_count": 23,
     "metadata": {},
     "output_type": "execute_result"
    }
   ],
   "source": [
    "# Посмотрим на результаты непараметрического  теста, используйте функцию mann_whitney_func\n",
    "\n",
    "mann_whitney_func(control, test)"
   ]
  },
  {
   "cell_type": "markdown",
   "id": "ebddad1b",
   "metadata": {},
   "source": [
    "### Вывод:\n",
    "\n",
    "По данным непараметрического теста Манна-Уитни распределения равны, то есть нет существенной разницы между тестовой и контрольной группой. При этом средние значения суммы оплаты в тестовой и контрольной группах отличаются. Об этом говорит результат параметрического теста (t-критерий Стьюдента).\n",
    "\n",
    "То есть по результатам А/В теста по всем пользователям можно говорить об успешности данного эксперимента. Тестируемые изменения привели к увеличению среднего чека на 5.26 % в тестовой группе по сравнению с контрольной."
   ]
  },
  {
   "cell_type": "markdown",
   "id": "3673ed28",
   "metadata": {},
   "source": [
    "## Анализ по торговым точкам"
   ]
  },
  {
   "cell_type": "code",
   "execution_count": 24,
   "id": "b58eab1b",
   "metadata": {},
   "outputs": [
    {
     "data": {
      "text/html": [
       "<div>\n",
       "<style scoped>\n",
       "    .dataframe tbody tr th:only-of-type {\n",
       "        vertical-align: middle;\n",
       "    }\n",
       "\n",
       "    .dataframe tbody tr th {\n",
       "        vertical-align: top;\n",
       "    }\n",
       "\n",
       "    .dataframe thead th {\n",
       "        text-align: right;\n",
       "    }\n",
       "</style>\n",
       "<table border=\"1\" class=\"dataframe\">\n",
       "  <thead>\n",
       "    <tr style=\"text-align: right;\">\n",
       "      <th></th>\n",
       "      <th>id_client</th>\n",
       "      <th>id_group</th>\n",
       "      <th>sum_pay</th>\n",
       "      <th>id_point</th>\n",
       "      <th>months_reg</th>\n",
       "    </tr>\n",
       "  </thead>\n",
       "  <tbody>\n",
       "    <tr>\n",
       "      <th>0</th>\n",
       "      <td>1420218</td>\n",
       "      <td>test</td>\n",
       "      <td>3288.0</td>\n",
       "      <td>1199.0</td>\n",
       "      <td>8</td>\n",
       "    </tr>\n",
       "    <tr>\n",
       "      <th>1</th>\n",
       "      <td>1390221</td>\n",
       "      <td>control</td>\n",
       "      <td>1267.0</td>\n",
       "      <td>1182.0</td>\n",
       "      <td>11</td>\n",
       "    </tr>\n",
       "    <tr>\n",
       "      <th>2</th>\n",
       "      <td>1363404</td>\n",
       "      <td>control</td>\n",
       "      <td>4259.0</td>\n",
       "      <td>1178.0</td>\n",
       "      <td>2</td>\n",
       "    </tr>\n",
       "    <tr>\n",
       "      <th>3</th>\n",
       "      <td>1370042</td>\n",
       "      <td>test</td>\n",
       "      <td>7211.0</td>\n",
       "      <td>1179.0</td>\n",
       "      <td>3</td>\n",
       "    </tr>\n",
       "    <tr>\n",
       "      <th>4</th>\n",
       "      <td>1360376</td>\n",
       "      <td>control</td>\n",
       "      <td>760.0</td>\n",
       "      <td>1178.0</td>\n",
       "      <td>14</td>\n",
       "    </tr>\n",
       "  </tbody>\n",
       "</table>\n",
       "</div>"
      ],
      "text/plain": [
       "   id_client id_group  sum_pay  id_point  months_reg\n",
       "0    1420218     test   3288.0    1199.0           8\n",
       "1    1390221  control   1267.0    1182.0          11\n",
       "2    1363404  control   4259.0    1178.0           2\n",
       "3    1370042     test   7211.0    1179.0           3\n",
       "4    1360376  control    760.0    1178.0          14"
      ]
     },
     "execution_count": 24,
     "metadata": {},
     "output_type": "execute_result"
    }
   ],
   "source": [
    "df1.head()"
   ]
  },
  {
   "cell_type": "code",
   "execution_count": 25,
   "id": "82220640",
   "metadata": {},
   "outputs": [
    {
     "data": {
      "text/plain": [
       "array([1199., 1182., 1178., 1179., 1186., 1188.])"
      ]
     },
     "execution_count": 25,
     "metadata": {},
     "output_type": "execute_result"
    }
   ],
   "source": [
    "# Посмотрим, какие есть уникальные точки в нашем датасете\n",
    "\n",
    "points = df1['id_point'].unique()\n",
    "\n",
    "points"
   ]
  },
  {
   "cell_type": "code",
   "execution_count": 26,
   "id": "1fa1c3ab",
   "metadata": {},
   "outputs": [
    {
     "name": "stdout",
     "output_type": "stream",
     "text": [
      "1199.0\n"
     ]
    },
    {
     "data": {
      "image/png": "[encoded data removed]",
      "text/plain": [
       "<Figure size 720x360 with 1 Axes>"
      ]
     },
     "metadata": {
      "needs_background": "light"
     },
     "output_type": "display_data"
    },
    {
     "name": "stdout",
     "output_type": "stream",
     "text": [
      "Прирост среднего чека составил nan %\n",
      "Недостаточное количество наблюдений для данной точки\n",
      "1182.0\n"
     ]
    },
    {
     "data": {
      "image/png": "[encoded data removed]",
      "text/plain": [
       "<Figure size 720x360 with 1 Axes>"
      ]
     },
     "metadata": {
      "needs_background": "light"
     },
     "output_type": "display_data"
    },
    {
     "name": "stdout",
     "output_type": "stream",
     "text": [
      "Прирост среднего чека составил 22.5 %\n",
      "Значение статистики Манна — Уитни =  382818.5\n",
      "p_value =  5.946812205351181e-15\n",
      "\n",
      "Распределения не равны\n",
      "Значение двухвыборочного t-критерия:  -7.172588995409098\n",
      "Значение p-value:  1.0387447468996453e-12\n",
      "Гипотеза о равенстве средних не принимается\n",
      "1178.0\n"
     ]
    },
    {
     "data": {
      "image/png": "[encoded data removed]",
      "text/plain": [
       "<Figure size 720x360 with 1 Axes>"
      ]
     },
     "metadata": {
      "needs_background": "light"
     },
     "output_type": "display_data"
    },
    {
     "name": "stdout",
     "output_type": "stream",
     "text": [
      "Прирост среднего чека составил -3.29 %\n",
      "Значение статистики Манна — Уитни =  3122337.5\n",
      "p_value =  1.5133330174771163e-06\n",
      "\n",
      "Распределения не равны\n",
      "Значение двухвыборочного t-критерия:  1.5338932633911708\n",
      "Значение p-value:  0.1251217226713009\n",
      "Гипотеза о равенстве средних принимается\n",
      "1179.0\n"
     ]
    },
    {
     "data": {
      "image/png": "[encoded data removed]",
      "text/plain": [
       "<Figure size 720x360 with 1 Axes>"
      ]
     },
     "metadata": {
      "needs_background": "light"
     },
     "output_type": "display_data"
    },
    {
     "name": "stdout",
     "output_type": "stream",
     "text": [
      "Прирост среднего чека составил 2.72 %\n",
      "Значение статистики Манна — Уитни =  1447666.5\n",
      "p_value =  0.2580763851815786\n",
      "\n",
      "Распределения равны\n",
      "Значение двухвыборочного t-критерия:  -1.1225576641441302\n",
      "Значение p-value:  0.2617037465196552\n",
      "Гипотеза о равенстве средних принимается\n",
      "1186.0\n"
     ]
    },
    {
     "data": {
      "image/png": "[encoded data removed]",
      "text/plain": [
       "<Figure size 720x360 with 1 Axes>"
      ]
     },
     "metadata": {
      "needs_background": "light"
     },
     "output_type": "display_data"
    },
    {
     "name": "stdout",
     "output_type": "stream",
     "text": [
      "Прирост среднего чека составил -19.96 %\n",
      "Недостаточное количество наблюдений для данной точки\n",
      "1188.0\n"
     ]
    },
    {
     "data": {
      "image/png": "[encoded data removed]",
      "text/plain": [
       "<Figure size 720x360 with 1 Axes>"
      ]
     },
     "metadata": {
      "needs_background": "light"
     },
     "output_type": "display_data"
    },
    {
     "name": "stdout",
     "output_type": "stream",
     "text": [
      "Прирост среднего чека составил -4.92 %\n",
      "Недостаточное количество наблюдений для данной точки\n"
     ]
    }
   ],
   "source": [
    "# Создадим цикл, пробегающий по всем уникальным торговым точкам\n",
    "\n",
    "for i in points:\n",
    "    \n",
    "    df_control = df1.loc[(df1['id_group'] == 'control') & (df1['id_point'] == i)]\n",
    "    control = df_control['sum_pay']\n",
    "    \n",
    "    df_test = df1.loc[(df1['id_group'] == 'test') & (df1['id_point'] == i)]\n",
    "    test = df_test['sum_pay']\n",
    "   \n",
    "    print(i)\n",
    "    show_hist(control, test)\n",
    "    \n",
    "    if len(control)>=100 and len(test)>=100:\n",
    "        mann_whitney_func(control, test)\n",
    "        test_calc(control, test)\n",
    "    \n",
    "    else:\n",
    "        print('Недостаточное количество наблюдений для данной точки')\n"
   ]
  },
  {
   "cell_type": "markdown",
   "id": "57d52e8b",
   "metadata": {},
   "source": [
    "### Вывод:\n",
    "\n",
    "Анализ по торговым точкам показал, что для достоверного анализа не по всем точкам было рассмотрено достаточное количество продаж. \n",
    "\n",
    "Для точки 1199 есть данные только по тестовой группе и отсутствуют данные по контролной, и предоставленных данных недостаточно для корректрого анализа. \n",
    "Для точек 1186, 1188 есть данные по обоим группам, но количества наблюдений недостаточно для анализа. У этого может быть две причины. \n",
    "Первая: что просто не было набрано достаточное количество наблюдений. Тогда рекомендуется набрать больше наблюдений по продажам в контрольной и тестовой группах и повторить проведенный анализ.\n",
    "Вторая причина: по этим точкам в принципе совершалось мало продаж, поэтому данных недостаточно. Необходимо оценить эти точки с позиции их эффективности: сколько там проводится продаж, какие факторы на это влияют (возможно, неудачная локация офиса, неудачный интерфейс сайта и т.п.)\n",
    "\n",
    "Из имеющихся данных можно сделать вывод лишь по трем точкам 1182, 1178, 1179.\n",
    "\n",
    "В точке 1182 эксперимент прошел успешно. Прирост среднего чека составил 22.5 %. И это не случайность, а статистически закономерное событие. \n",
    "\n",
    "А в точках 1178 и 1179 эксперимент прошел неудачно. Результатов воздействия тестируемых изменений на величину среднего чека не выявлено."
   ]
  },
  {
   "cell_type": "markdown",
   "id": "6d71a4dc",
   "metadata": {},
   "source": [
    "## Сегментация по длительности регистрации"
   ]
  },
  {
   "cell_type": "code",
   "execution_count": 27,
   "id": "8eb3eeab",
   "metadata": {},
   "outputs": [
    {
     "data": {
      "text/html": [
       "<div>\n",
       "<style scoped>\n",
       "    .dataframe tbody tr th:only-of-type {\n",
       "        vertical-align: middle;\n",
       "    }\n",
       "\n",
       "    .dataframe tbody tr th {\n",
       "        vertical-align: top;\n",
       "    }\n",
       "\n",
       "    .dataframe thead th {\n",
       "        text-align: right;\n",
       "    }\n",
       "</style>\n",
       "<table border=\"1\" class=\"dataframe\">\n",
       "  <thead>\n",
       "    <tr style=\"text-align: right;\">\n",
       "      <th></th>\n",
       "      <th>id_client</th>\n",
       "      <th>id_group</th>\n",
       "      <th>sum_pay</th>\n",
       "      <th>id_point</th>\n",
       "      <th>months_reg</th>\n",
       "    </tr>\n",
       "  </thead>\n",
       "  <tbody>\n",
       "    <tr>\n",
       "      <th>0</th>\n",
       "      <td>1420218</td>\n",
       "      <td>test</td>\n",
       "      <td>3288.0</td>\n",
       "      <td>1199.0</td>\n",
       "      <td>8</td>\n",
       "    </tr>\n",
       "    <tr>\n",
       "      <th>1</th>\n",
       "      <td>1390221</td>\n",
       "      <td>control</td>\n",
       "      <td>1267.0</td>\n",
       "      <td>1182.0</td>\n",
       "      <td>11</td>\n",
       "    </tr>\n",
       "    <tr>\n",
       "      <th>2</th>\n",
       "      <td>1363404</td>\n",
       "      <td>control</td>\n",
       "      <td>4259.0</td>\n",
       "      <td>1178.0</td>\n",
       "      <td>2</td>\n",
       "    </tr>\n",
       "    <tr>\n",
       "      <th>3</th>\n",
       "      <td>1370042</td>\n",
       "      <td>test</td>\n",
       "      <td>7211.0</td>\n",
       "      <td>1179.0</td>\n",
       "      <td>3</td>\n",
       "    </tr>\n",
       "    <tr>\n",
       "      <th>4</th>\n",
       "      <td>1360376</td>\n",
       "      <td>control</td>\n",
       "      <td>760.0</td>\n",
       "      <td>1178.0</td>\n",
       "      <td>14</td>\n",
       "    </tr>\n",
       "  </tbody>\n",
       "</table>\n",
       "</div>"
      ],
      "text/plain": [
       "   id_client id_group  sum_pay  id_point  months_reg\n",
       "0    1420218     test   3288.0    1199.0           8\n",
       "1    1390221  control   1267.0    1182.0          11\n",
       "2    1363404  control   4259.0    1178.0           2\n",
       "3    1370042     test   7211.0    1179.0           3\n",
       "4    1360376  control    760.0    1178.0          14"
      ]
     },
     "execution_count": 27,
     "metadata": {},
     "output_type": "execute_result"
    }
   ],
   "source": [
    "df1.head()"
   ]
  },
  {
   "cell_type": "code",
   "execution_count": 28,
   "id": "4dbd99ed",
   "metadata": {},
   "outputs": [],
   "source": [
    "# Создадим функцию proxi_ranges, которая берет на вход два ряда и уровень значимости \n",
    "# Данная функция выполняет следующие действия:\n",
    "    # Вычисляет дисперсии рядов и их ковариацию с помощью функции cov из numpy \n",
    "    # Вычисляет корреляцию Пирсона и корреляцию Спирмена и p_value этих корреляций.\n",
    "    # Принтит результаты корреляционного анализа: корреляция равна нулю, если p_value больше альфы. \n",
    "        # В противном случае принтит, является ли корреляция слабой (меньше 0.3), средней (от 0.3 до 0.7) \n",
    "            #или сильной (больше 0.7).\n",
    "\n",
    "\n",
    "def proxi_ranges(r1, r2, alpha = 0.05):\n",
    "    \n",
    "    cov_matrix = np.cov(r1, r2)\n",
    "    pearsonr_v, pearsonr_p = pearsonr(r1, r2)\n",
    "    spearmanr_v, spearmanr_p = spearmanr(r1, r2)\n",
    "    \n",
    "    print('Дисперсия ряда', r1.name, '=', cov_matrix[0,0])\n",
    "    print('Дисперсия ряда', r2.name, '=', cov_matrix[1,1])\n",
    "    print('Ковариация = ', cov_matrix[0,1])\n",
    "    print()\n",
    "    \n",
    "    \n",
    "    if pearsonr_p < alpha:\n",
    "        print('Корреляция Пирсона = ', pearsonr_v)\n",
    "        if abs(pearsonr_v) < 0.3:\n",
    "            print('Корреляция слабая')\n",
    "        elif abs(pearsonr_v) < 0.7:\n",
    "            print('Корреляция средняя')\n",
    "        else:\n",
    "            print('Корреляция сильная')\n",
    "    else:\n",
    "        print('Корреляция Пирсона равна нулю')\n",
    "    print()\n",
    "    \n",
    "\n",
    "    if spearmanr_p < alpha:\n",
    "        print('Корреляция Спирмена = ', spearmanr_v)\n",
    "        if abs(spearmanr_v) < 0.3:\n",
    "            print('Корреляция слабая')\n",
    "        elif abs(spearmanr_v) < 0.7:\n",
    "            print('Корреляция средняя')\n",
    "        else:\n",
    "            print('Корреляция сильная')\n",
    "    else:\n",
    "        print('Корреляция Спирмена равна нулю')"
   ]
  },
  {
   "cell_type": "code",
   "execution_count": 29,
   "id": "18bd3847",
   "metadata": {},
   "outputs": [
    {
     "name": "stdout",
     "output_type": "stream",
     "text": [
      "Дисперсия ряда sum_pay = 6023895.900736308\n",
      "Дисперсия ряда months_reg = 10.039582493438866\n",
      "Ковариация =  4652.627890558256\n",
      "\n",
      "Корреляция Пирсона =  0.598276252133036\n",
      "Корреляция средняя\n",
      "\n",
      "Корреляция Спирмена =  0.6520008575703581\n",
      "Корреляция средняя\n"
     ]
    }
   ],
   "source": [
    "# Используя функцию proxi_ranges, рассмотрим два вида корреляции между \n",
    "# выплаченной суммой и длительностью регистрации.\n",
    "\n",
    "proxi_ranges(df1['sum_pay'], df1['months_reg'])"
   ]
  },
  {
   "cell_type": "code",
   "execution_count": 30,
   "id": "721f96f8",
   "metadata": {},
   "outputs": [
    {
     "data": {
      "image/png": "[encoded data removed]",
      "text/plain": [
       "<Figure size 720x360 with 1 Axes>"
      ]
     },
     "metadata": {
      "needs_background": "light"
     },
     "output_type": "display_data"
    }
   ],
   "source": [
    "plt.figure(figsize = (10,5))\n",
    "\n",
    "plt.title('Зависимость суммы оплат от длительности регистрации') \n",
    "plt.xlabel('Сумма оплат, руб.') \n",
    "plt.ylabel('Длительность регистрации, месяцев') \n",
    "\n",
    "plt.grid()\n",
    "\n",
    "plt.scatter(df1['sum_pay'], df1['months_reg'], alpha = 0.5)\n",
    "plt.show()"
   ]
  },
  {
   "cell_type": "code",
   "execution_count": 37,
   "id": "50616922",
   "metadata": {},
   "outputs": [
    {
     "data": {
      "text/html": [
       "<div>\n",
       "<style scoped>\n",
       "    .dataframe tbody tr th:only-of-type {\n",
       "        vertical-align: middle;\n",
       "    }\n",
       "\n",
       "    .dataframe tbody tr th {\n",
       "        vertical-align: top;\n",
       "    }\n",
       "\n",
       "    .dataframe thead th {\n",
       "        text-align: right;\n",
       "    }\n",
       "</style>\n",
       "<table border=\"1\" class=\"dataframe\">\n",
       "  <thead>\n",
       "    <tr style=\"text-align: right;\">\n",
       "      <th></th>\n",
       "      <th>months_reg</th>\n",
       "      <th>avg_sum_pay</th>\n",
       "    </tr>\n",
       "  </thead>\n",
       "  <tbody>\n",
       "    <tr>\n",
       "      <th>0</th>\n",
       "      <td>0</td>\n",
       "      <td>980.297092</td>\n",
       "    </tr>\n",
       "    <tr>\n",
       "      <th>1</th>\n",
       "      <td>1</td>\n",
       "      <td>1085.724051</td>\n",
       "    </tr>\n",
       "    <tr>\n",
       "      <th>2</th>\n",
       "      <td>2</td>\n",
       "      <td>1777.822569</td>\n",
       "    </tr>\n",
       "    <tr>\n",
       "      <th>3</th>\n",
       "      <td>3</td>\n",
       "      <td>2373.030285</td>\n",
       "    </tr>\n",
       "    <tr>\n",
       "      <th>4</th>\n",
       "      <td>4</td>\n",
       "      <td>3762.609551</td>\n",
       "    </tr>\n",
       "    <tr>\n",
       "      <th>5</th>\n",
       "      <td>5</td>\n",
       "      <td>4053.715359</td>\n",
       "    </tr>\n",
       "    <tr>\n",
       "      <th>6</th>\n",
       "      <td>6</td>\n",
       "      <td>4319.829308</td>\n",
       "    </tr>\n",
       "    <tr>\n",
       "      <th>7</th>\n",
       "      <td>7</td>\n",
       "      <td>5613.047913</td>\n",
       "    </tr>\n",
       "    <tr>\n",
       "      <th>8</th>\n",
       "      <td>8</td>\n",
       "      <td>5573.013595</td>\n",
       "    </tr>\n",
       "    <tr>\n",
       "      <th>9</th>\n",
       "      <td>9</td>\n",
       "      <td>5946.964169</td>\n",
       "    </tr>\n",
       "    <tr>\n",
       "      <th>10</th>\n",
       "      <td>10</td>\n",
       "      <td>5588.657321</td>\n",
       "    </tr>\n",
       "    <tr>\n",
       "      <th>11</th>\n",
       "      <td>11</td>\n",
       "      <td>5886.322188</td>\n",
       "    </tr>\n",
       "    <tr>\n",
       "      <th>12</th>\n",
       "      <td>12</td>\n",
       "      <td>5732.888372</td>\n",
       "    </tr>\n",
       "    <tr>\n",
       "      <th>13</th>\n",
       "      <td>13</td>\n",
       "      <td>3393.714286</td>\n",
       "    </tr>\n",
       "    <tr>\n",
       "      <th>14</th>\n",
       "      <td>14</td>\n",
       "      <td>3491.855422</td>\n",
       "    </tr>\n",
       "  </tbody>\n",
       "</table>\n",
       "</div>"
      ],
      "text/plain": [
       "    months_reg  avg_sum_pay\n",
       "0            0   980.297092\n",
       "1            1  1085.724051\n",
       "2            2  1777.822569\n",
       "3            3  2373.030285\n",
       "4            4  3762.609551\n",
       "5            5  4053.715359\n",
       "6            6  4319.829308\n",
       "7            7  5613.047913\n",
       "8            8  5573.013595\n",
       "9            9  5946.964169\n",
       "10          10  5588.657321\n",
       "11          11  5886.322188\n",
       "12          12  5732.888372\n",
       "13          13  3393.714286\n",
       "14          14  3491.855422"
      ]
     },
     "execution_count": 37,
     "metadata": {},
     "output_type": "execute_result"
    }
   ],
   "source": [
    "# Проведем группировку пользователей по длительности регистрации и посчитаем средний чек для каждой группы.\n",
    "\n",
    "monthly = df1.groupby('months_reg')['sum_pay'].mean().reset_index()\n",
    "monthly.columns = ['months_reg', 'avg_sum_pay']\n",
    "\n",
    "monthly"
   ]
  },
  {
   "cell_type": "code",
   "execution_count": 38,
   "id": "9153ef63",
   "metadata": {},
   "outputs": [
    {
     "name": "stderr",
     "output_type": "stream",
     "text": [
      "/opt/anaconda3/lib/python3.9/site-packages/seaborn/_decorators.py:36: FutureWarning: Pass the following variables as keyword args: x, y. From version 0.12, the only valid positional argument will be `data`, and passing other arguments without an explicit keyword will result in an error or misinterpretation.\n",
      "  warnings.warn(\n"
     ]
    },
    {
     "data": {
      "text/plain": [
       "<AxesSubplot:title={'center':'Величина среднего чека по длительности регистрации'}, xlabel='Длительность регистрации, мес.', ylabel='Средний чек, руб.'>"
      ]
     },
     "execution_count": 38,
     "metadata": {},
     "output_type": "execute_result"
    },
    {
     "data": {
      "image/png": "[encoded data removed]",
      "text/plain": [
       "<Figure size 720x360 with 1 Axes>"
      ]
     },
     "metadata": {
      "needs_background": "light"
     },
     "output_type": "display_data"
    }
   ],
   "source": [
    "# Визуализируем данные с помощью графика.\n",
    "\n",
    "plt.figure(figsize = (10,5))\n",
    "\n",
    "plt.title('Величина среднего чека по длительности регистрации') \n",
    "plt.xlabel('Длительность регистрации, мес.') \n",
    "plt.ylabel('Средний чек, руб.') \n",
    "\n",
    "plt.grid()\n",
    "\n",
    "sns.lineplot(df1['months_reg'],\n",
    "             df1['sum_pay'])"
   ]
  },
  {
   "cell_type": "markdown",
   "id": "90c11807",
   "metadata": {},
   "source": [
    "## Вывод\n",
    "Корреляция между выплаченной суммой и длительностью регистрации прямая, средняя и ярко выраженная. \n",
    "При этом в первые семь месяцев сумма среднего чека активно растет. После семи месяцев она выходит на плато, а через год после регистрации происходит резкий спад суммы среднего чека.\n",
    "\n",
    "Исходя из этого, можно дать рекомендацию маркетингу, проявить больше внимания к пользователям, чья длительность регистрации более семи месяцев: вовлекать их в покупки с помощью промо-акций и скидок. \n",
    "\n",
    "И особое внимание уделить пользователям, которые зарегистрированы на сайте больше года. Рекомендуется проводить холодные звонки для данного сегмета. Предлагать особые условия покупок для давних клиентов, которые являются пользователями больше года."
   ]
  },
  {
   "cell_type": "code",
   "execution_count": null,
   "id": "e4ac7bd2",
   "metadata": {},
   "outputs": [],
   "source": []
  }
 ],
 "metadata": {
  "kernelspec": {
   "display_name": "Python 3 (ipykernel)",
   "language": "python",
   "name": "python3"
  },
  "language_info": {
   "codemirror_mode": {
    "name": "ipython",
    "version": 3
   },
   "file_extension": ".py",
   "mimetype": "text/x-python",
   "name": "python",
   "nbconvert_exporter": "python",
   "pygments_lexer": "ipython3",
   "version": "3.8.13"
  }
 },
 "nbformat": 4,
 "nbformat_minor": 5
}
